{
 "cells": [
  {
   "cell_type": "code",
   "execution_count": 1,
   "metadata": {},
   "outputs": [],
   "source": [
    "import time\n",
    "import os\n",
    "import csv\n",
    "\n",
    "from cand_methods import scrape_candbio\n",
    "\n",
    "import requests\n",
    "from bs4 import BeautifulSoup\n",
    "from multiprocessing.pool import ThreadPool\n",
    "\n",
    "import pandas as pd\n",
    "import numpy as np"
   ]
  },
  {
   "cell_type": "code",
   "execution_count": 3,
   "metadata": {},
   "outputs": [],
   "source": [
    "#!pwd"
   ]
  },
  {
   "cell_type": "code",
   "execution_count": 4,
   "metadata": {},
   "outputs": [],
   "source": [
    "#os.chdir('C:/Users/matth/Documents/Coding/RA Fouirnaies/vs_candidate_bios')"
   ]
  },
  {
   "cell_type": "markdown",
   "metadata": {},
   "source": [
    "## Candidate Biographies\n",
    "\n",
    "### Exploring Candidate Pages"
   ]
  },
  {
   "cell_type": "markdown",
   "metadata": {},
   "source": [
    "Candidate bio page follows this https://justfacts.votesmart.org/candidate/biography/333/janet-carroll-richardson where the name gets automatically filled after inputting the number\n",
    "\n",
    "Appears to end at candidate 209,867. However, there could be gaps in the middle."
   ]
  },
  {
   "cell_type": "code",
   "execution_count": 4,
   "metadata": {},
   "outputs": [],
   "source": [
    "def make_query(num):\n",
    "    query = 'https://justfacts.votesmart.org/candidate/biography/' + str(num)\n",
    "    return query"
   ]
  },
  {
   "cell_type": "markdown",
   "metadata": {},
   "source": [
    "**Initial Remarks**: The biographical information of candidates is organized into a number of collapsible cards ['Personal','Education','Political Experience', 'Caucuses/Former Committees', 'Professional Experience', 'Religious, Civic, and other Memberships'] (6 total). Information within the first card 'Personal' is organized slightly differently than in the other cards, with a bold header for each piece of information, while in the other 5 cards information is presented plainly in rows. \n",
    "\n",
    "The current plan is to create a general function or functions which loop through the individual attributes of each card for every card. "
   ]
  },
  {
   "cell_type": "code",
   "execution_count": 5,
   "metadata": {},
   "outputs": [],
   "source": [
    "\n",
    "q = make_query(333)\n",
    "request = requests.get(q)\n",
    "soup = BeautifulSoup(request.content, 'html.parser')\n"
   ]
  },
  {
   "cell_type": "code",
   "execution_count": 6,
   "metadata": {},
   "outputs": [],
   "source": [
    "cards = soup.find_all(name = 'div', class_ = 'card card-plain accordion-card')"
   ]
  },
  {
   "cell_type": "code",
   "execution_count": 7,
   "metadata": {},
   "outputs": [
    {
     "data": {
      "text/plain": [
       "5"
      ]
     },
     "execution_count": 7,
     "metadata": {},
     "output_type": "execute_result"
    }
   ],
   "source": [
    "len(cards) # all cards besides education card which has class 'card card-plain accordion-card accordion-header'"
   ]
  },
  {
   "cell_type": "markdown",
   "metadata": {},
   "source": [
    "**Personal**"
   ]
  },
  {
   "cell_type": "code",
   "execution_count": 8,
   "metadata": {},
   "outputs": [
    {
     "data": {
      "text/plain": [
       "12"
      ]
     },
     "execution_count": 8,
     "metadata": {},
     "output_type": "execute_result"
    }
   ],
   "source": [
    "vals = cards[0].find_all(name = 'p')\n",
    "len(vals)"
   ]
  },
  {
   "cell_type": "code",
   "execution_count": 9,
   "metadata": {},
   "outputs": [
    {
     "name": "stdout",
     "output_type": "stream",
     "text": [
      "Full Name:\n",
      "Janet Carroll 'Skeet' Richardson\n",
      "Gender:\n",
      "Female\n",
      "Family:\n",
      "Divorced;   1 daughter: Bethany, 10 yrs. old\n",
      "Birth Date:\n",
      "01/09/1959\n",
      "Birth Place:\n",
      "Fort Worth, TX\n",
      "Home City:\n",
      "Keller, TX\n"
     ]
    }
   ],
   "source": [
    "for val in vals:\n",
    "    print(val.string.strip())"
   ]
  },
  {
   "cell_type": "code",
   "execution_count": 10,
   "metadata": {},
   "outputs": [],
   "source": [
    "entries = []\n",
    "for x in range(0,len(vals),2):\n",
    "    if(x==(len(vals)-2)):\n",
    "        entry = vals[x].string.strip() + vals[x+1].string.strip()\n",
    "    else:\n",
    "        entry = vals[x].string.strip() + vals[x+1].string.strip() + ';'\n",
    "    entries.append(entry)"
   ]
  },
  {
   "cell_type": "code",
   "execution_count": 11,
   "metadata": {},
   "outputs": [
    {
     "data": {
      "text/plain": [
       "[\"Full Name:Janet Carroll 'Skeet' Richardson;\",\n",
       " 'Gender:Female;',\n",
       " 'Family:Divorced;   1 daughter: Bethany, 10 yrs. old;',\n",
       " 'Birth Date:01/09/1959;',\n",
       " 'Birth Place:Fort Worth, TX;',\n",
       " 'Home City:Keller, TX']"
      ]
     },
     "execution_count": 11,
     "metadata": {},
     "output_type": "execute_result"
    }
   ],
   "source": [
    "entries # could improve this method by creating a dictionary instead of a list"
   ]
  },
  {
   "cell_type": "markdown",
   "metadata": {},
   "source": [
    "**Education**"
   ]
  },
  {
   "cell_type": "code",
   "execution_count": 12,
   "metadata": {},
   "outputs": [],
   "source": [
    "edu_card = soup.find(name = 'div', class_ = 'card card-plain accordion-card accordion-header')"
   ]
  },
  {
   "cell_type": "code",
   "execution_count": 13,
   "metadata": {},
   "outputs": [],
   "source": [
    "edu_list = edu_card.find_all(name = 'p')"
   ]
  },
  {
   "cell_type": "code",
   "execution_count": 14,
   "metadata": {},
   "outputs": [
    {
     "name": "stdout",
     "output_type": "stream",
     "text": [
      "Texas Christian University\n"
     ]
    }
   ],
   "source": [
    "for edu in edu_list:\n",
    "    print(edu.string.strip())"
   ]
  },
  {
   "cell_type": "markdown",
   "metadata": {},
   "source": [
    "**Others**"
   ]
  },
  {
   "cell_type": "code",
   "execution_count": 15,
   "metadata": {},
   "outputs": [],
   "source": [
    "others = []\n",
    "for card in cards:\n",
    "    if(card != cards[0]):\n",
    "        temp = card.find_all(name = 'p')\n",
    "        o = []\n",
    "        for t in temp:\n",
    "            o.append(t.string.strip())\n",
    "        others.append(o)"
   ]
  },
  {
   "cell_type": "code",
   "execution_count": 16,
   "metadata": {},
   "outputs": [
    {
     "data": {
      "text/plain": [
       "[['Legislative Aide, State Representative Doyle Willis',\n",
       "  'Campaign Director for Congressional candidate George Richardson, 1986'],\n",
       " ['No caucus information on file.'],\n",
       " [\"President/Producer, `Positive' TV Programming, Richardson-Carroll Prod\",\n",
       "  \"Author, `Unsung Heroes'\",\n",
       "  'Public Relations Executive Television Executive, WFAA-TV, ABC'],\n",
       " [\"Regional Member, Emmy's\",\n",
       "  'Member, National Association of Female Executives',\n",
       "  'Member, Women in Communications']]"
      ]
     },
     "execution_count": 16,
     "metadata": {},
     "output_type": "execute_result"
    }
   ],
   "source": [
    "others"
   ]
  },
  {
   "cell_type": "markdown",
   "metadata": {},
   "source": [
    "#### Testing Function(s) for scraping an individual page and writing it to a row of a csv"
   ]
  },
  {
   "cell_type": "code",
   "execution_count": 17,
   "metadata": {},
   "outputs": [],
   "source": [
    "from cand_methods import scrape_candbio"
   ]
  },
  {
   "cell_type": "code",
   "execution_count": 2,
   "metadata": {},
   "outputs": [],
   "source": [
    "headers = ['Candidate Number','Personal','Education','Political Experience','Caucuses/Former Committees',\n",
    "           'Professional Experience','Religious, Civic, and other Memberships','Additional Information']"
   ]
  },
  {
   "cell_type": "code",
   "execution_count": 3,
   "metadata": {},
   "outputs": [],
   "source": [
    "file = open('./draft_cbios.csv', 'w')\n",
    "writer = csv.writer(file)\n",
    "writer.writerow(headers)\n",
    "file.close()"
   ]
  },
  {
   "cell_type": "code",
   "execution_count": 20,
   "metadata": {},
   "outputs": [
    {
     "name": "stdout",
     "output_type": "stream",
     "text": [
      "My program took 467.9851350784302 to run\n"
     ]
    }
   ],
   "source": [
    "start_time = time.time()\n",
    "\n",
    "#for x in range(1,101):\n",
    "#    scrape_candbio(x)\n",
    "    \n",
    "print(\"My program took\", time.time()-start_time, \"to run\") # 467.9851350784302 (8 min) for 100 bios"
   ]
  },
  {
   "cell_type": "markdown",
   "metadata": {},
   "source": [
    "**Troubleshooting**"
   ]
  },
  {
   "cell_type": "code",
   "execution_count": 1,
   "metadata": {},
   "outputs": [],
   "source": [
    "from cand_methods import make_query\n",
    "from cand_methods import get_personal\n",
    "from cand_methods import get_edu\n",
    "from cand_methods import get_others"
   ]
  },
  {
   "cell_type": "code",
   "execution_count": 62,
   "metadata": {},
   "outputs": [],
   "source": [
    "num = 73\n",
    "query = make_query(num)   \n",
    "try:\n",
    "    req = requests.get(query)\n",
    "except:\n",
    "    row = [num] + ['redirect error' for i in range(0,6)]\n",
    "\n",
    "try:\n",
    "    soup = BeautifulSoup(req.content, 'html.parser')\n",
    "except:\n",
    "    row = [num] + ['unknown' for i in range(0,6)]\n",
    "\n",
    "# checking if page is missing/empty i.e. there is no candidate with that id number\n",
    "try:\n",
    "    main = soup.find(name='div', class_ = 'row text-center')\n",
    "    cont = main.find(name = 'div', class_ = 'container')\n",
    "    pnf = cont.find(name='h1', class_ = 'title')\n",
    "    if (pnf.string == 'Page Not Found'):\n",
    "        row = [num] + [np.nan for i in range(0,6)]\n",
    "except:\n",
    "    pass\n",
    "\n",
    "cards = soup.find_all(name = 'div', class_ = 'card card-plain accordion-card') # all cards besides education\n",
    "edu_card = soup.find(name = 'div', class_ = 'card card-plain accordion-card accordion-header')"
   ]
  },
  {
   "cell_type": "markdown",
   "metadata": {},
   "source": [
    "### Parallelization of BeautifulSoup\n",
    "\n",
    "Current estimates put the total scraping at >266 hours so parallelization will be necessary to complete this task. From online forums, `request.get` apparently is a bottleneck in Python so the solutions are either to rewrite the existing function using Selenium and use the existing `parallel` function (maybe unnecessarily bulky) or write a new function for parallelizing BeautifulSoup tasks. "
   ]
  },
  {
   "cell_type": "code",
   "execution_count": 5,
   "metadata": {},
   "outputs": [],
   "source": [
    "test_data = list(range(1,101)) # without multiprocessing this should take around 8 minutes"
   ]
  },
  {
   "cell_type": "code",
   "execution_count": 9,
   "metadata": {},
   "outputs": [
    {
     "name": "stdout",
     "output_type": "stream",
     "text": [
      "My program took 91.76298093795776 to run\n"
     ]
    }
   ],
   "source": [
    "from multiprocessing.pool import ThreadPool\n",
    "\n",
    "start_time = time.time()\n",
    "\n",
    "with ThreadPool(6) as pool:\n",
    "    pool.map(scrape_candbio, test_data)\n",
    "\n",
    "print(\"My program took\", time.time()-start_time, \"to run\") # 91.76298093795776 s (1 min 30 s) approx 5x faster\n",
    "# this runtime is before checking for duplicates"
   ]
  },
  {
   "cell_type": "markdown",
   "metadata": {},
   "source": [
    "**Result**: Multiprocessing is 5x faster but appears to repeat tasks, could optimize further by preventing this. \n",
    "\n",
    "*Potential Solution*: Brute force solution would be at the start of the function, readcsv and check if number is in list of numbers in the num column and force return if it does. "
   ]
  },
  {
   "cell_type": "code",
   "execution_count": 5,
   "metadata": {},
   "outputs": [
    {
     "name": "stdout",
     "output_type": "stream",
     "text": [
      "My program took 91.63398146629333 to run\n"
     ]
    }
   ],
   "source": [
    "start_time = time.time()\n",
    "\n",
    "with ThreadPool(6) as pool:\n",
    "    pool.map(scrape_candbio, test_data)\n",
    "\n",
    "print(\"My program took\", time.time()-start_time, \"to run\") # 91.63398146629333  (1 min 30 s) almost same runtime"
   ]
  },
  {
   "cell_type": "markdown",
   "metadata": {},
   "source": [
    "**Result**: Resolved issue with repeat tasks but did not increase runtime"
   ]
  },
  {
   "cell_type": "markdown",
   "metadata": {},
   "source": [
    "#### Attempting Multiple Runs"
   ]
  },
  {
   "cell_type": "code",
   "execution_count": 6,
   "metadata": {},
   "outputs": [
    {
     "name": "stdout",
     "output_type": "stream",
     "text": [
      "error in: 5186\n",
      "error in: 5594\n",
      "error in:error in: 7216\n",
      "error in: error in: 6409 6801\n",
      "\n",
      "error in: 5187\n",
      "error in: 5595\n",
      "5990\n",
      "error in: 5991\n",
      "error in: 6802\n",
      "error in: 5992\n",
      "error in:error in: 5596\n",
      " 6803\n",
      "error in: 5188\n",
      "error in: 6410\n",
      "error in: 7217\n",
      "error in: 6804\n",
      "error in: 6411\n",
      "error in: 5993\n",
      "error in: 5994\n",
      "error in: 5597\n",
      "error in: 5995\n",
      "error in: 5189\n",
      "error in: 7218\n",
      "error in: 5598\n",
      "error in: 6805\n",
      "error in: 5996\n",
      "error in: 6412\n",
      "error in:error in:error in: 5190\n",
      "error in:  5599\n",
      "6806\n",
      " error in:error in: 5997\n",
      " 6413\n",
      "7219\n",
      "error in: 6414\n",
      "error in: 5191\n",
      "error in:error in: 7220\n",
      " 6807\n",
      "error in:error in: 5600\n",
      "error in: 6808\n",
      " 6415\n",
      "error in: 7221\n",
      "error in: 5998\n",
      "error in: 5192\n",
      "error in:error in: 6809\n",
      "error in: 5601\n",
      " error in: 5193\n",
      "error in: 6416\n",
      "error in: 5999\n",
      "7222\n",
      "error in:error in: 6000\n",
      " 7223\n",
      "error in: 5602\n",
      "My program took 8597.337768554688 to run\n"
     ]
    }
   ],
   "source": [
    "# run 1 (10,000)\n",
    "\n",
    "data_1_10k = list(range(1,10000))\n",
    "\n",
    "headers = ['Candidate Number','Personal','Education','Political Experience','Caucuses/Former Committees',\n",
    "           'Professional Experience','Religious, Civic, and other Memberships','Additional Information']\n",
    "\n",
    "file = open('./draft_cbios.csv', 'w')\n",
    "writer = csv.writer(file)\n",
    "writer.writerow(headers)\n",
    "file.close()\n",
    "\n",
    "start_time = time.time()\n",
    "\n",
    "with ThreadPool(6) as pool:\n",
    "    pool.map(scrape_candbio, data_1_10k)\n",
    "\n",
    "print(\"My program took\", time.time()-start_time, \"to run\") # 8597.337768554688 (2 hr 25 min)"
   ]
  },
  {
   "cell_type": "markdown",
   "metadata": {},
   "source": [
    "**Errors from above 1 to 10k run**\n",
    "\n",
    "error in: 5186\n",
    "error in: 5594\n",
    "error in:error in: 7216\n",
    "error in: error in: 6409 6801\n",
    "\n",
    "error in: 5187\n",
    "error in: 5595\n",
    "5990\n",
    "error in: 5991\n",
    "error in: 6802\n",
    "error in: 5992\n",
    "error in:error in: 5596\n",
    " 6803\n",
    "error in: 5188\n",
    "error in: 6410\n",
    "error in: 7217\n",
    "error in: 6804\n",
    "error in: 6411\n",
    "error in: 5993\n",
    "error in: 5994\n",
    "error in: 5597\n",
    "error in: 5995\n",
    "error in: 5189\n",
    "error in: 7218\n",
    "error in: 5598\n",
    "error in: 6805\n",
    "error in: 5996\n",
    "error in: 6412\n",
    "error in:error in:error in: 5190\n",
    "error in:  5599\n",
    "6806\n",
    " error in:error in: 5997\n",
    " 6413\n",
    "7219\n",
    "error in: 6414\n",
    "error in: 5191\n",
    "error in:error in: 7220\n",
    " 6807\n",
    "error in:error in: 5600\n",
    "error in: 6808\n",
    " 6415\n",
    "error in: 7221\n",
    "error in: 5998\n",
    "error in: 5192\n",
    "error in:error in: 6809\n",
    "error in: 5601\n",
    " error in: 5193\n",
    "error in: 6416\n",
    "error in: 5999\n",
    "7222\n",
    "error in:error in: 6000\n",
    " 7223\n",
    "error in: 5602\n"
   ]
  },
  {
   "cell_type": "code",
   "execution_count": null,
   "metadata": {},
   "outputs": [],
   "source": []
  }
 ],
 "metadata": {
  "kernelspec": {
   "display_name": "Python 3",
   "language": "python",
   "name": "python3"
  },
  "language_info": {
   "codemirror_mode": {
    "name": "ipython",
    "version": 3
   },
   "file_extension": ".py",
   "mimetype": "text/x-python",
   "name": "python",
   "nbconvert_exporter": "python",
   "pygments_lexer": "ipython3",
   "version": "3.7.6"
  }
 },
 "nbformat": 4,
 "nbformat_minor": 5
}
