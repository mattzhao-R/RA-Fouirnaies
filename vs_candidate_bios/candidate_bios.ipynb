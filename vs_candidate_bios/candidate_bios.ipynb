{
 "cells": [
  {
   "cell_type": "code",
   "execution_count": 1,
   "metadata": {},
   "outputs": [],
   "source": [
    "import time\n",
    "import os\n",
    "import csv\n",
    "\n",
    "import requests\n",
    "from bs4 import BeautifulSoup\n",
    "\n",
    "import pandas as pd\n",
    "import numpy as np"
   ]
  },
  {
   "cell_type": "code",
   "execution_count": 2,
   "metadata": {},
   "outputs": [],
   "source": [
    "#!pwd"
   ]
  },
  {
   "cell_type": "code",
   "execution_count": 3,
   "metadata": {},
   "outputs": [],
   "source": [
    "#os.chdir('C:/Users/matth/Documents/Coding/RA Fouirnaies/vs_candidate_bios')"
   ]
  },
  {
   "cell_type": "markdown",
   "metadata": {},
   "source": [
    "## Candidate Biographies\n",
    "\n",
    "### Exploring Candidate Pages"
   ]
  },
  {
   "cell_type": "markdown",
   "metadata": {},
   "source": [
    "Candidate bio page follows this https://justfacts.votesmart.org/candidate/biography/333/janet-carroll-richardson where the name gets automatically filled after inputting the number\n",
    "\n",
    "Appears to end at candidate 209,867. However, there could be gaps in the middle."
   ]
  },
  {
   "cell_type": "code",
   "execution_count": 4,
   "metadata": {},
   "outputs": [],
   "source": [
    "def make_query(num):\n",
    "    query = 'https://justfacts.votesmart.org/candidate/biography/' + str(num)\n",
    "    return query"
   ]
  },
  {
   "cell_type": "markdown",
   "metadata": {},
   "source": [
    "**Initial Remarks**: The biographical information of candidates is organized into a number of collapsible cards ['Personal','Education','Political Experience', 'Caucuses/Former Committees', 'Professional Experience', 'Religious, Civic, and other Memberships'] (6 total). Information within the first card 'Personal' is organized slightly differently than in the other cards, with a bold header for each piece of information, while in the other 5 cards information is presented plainly in rows. \n",
    "\n",
    "The current plan is to create a general function or functions which loop through the individual attributes of each card for every card. "
   ]
  },
  {
   "cell_type": "code",
   "execution_count": 5,
   "metadata": {},
   "outputs": [],
   "source": [
    "\n",
    "q = make_query(333)\n",
    "request = requests.get(q)\n",
    "soup = BeautifulSoup(request.content, 'html.parser')\n"
   ]
  },
  {
   "cell_type": "code",
   "execution_count": 6,
   "metadata": {},
   "outputs": [],
   "source": [
    "cards = soup.find_all(name = 'div', class_ = 'card card-plain accordion-card')"
   ]
  },
  {
   "cell_type": "code",
   "execution_count": 7,
   "metadata": {},
   "outputs": [
    {
     "data": {
      "text/plain": [
       "5"
      ]
     },
     "execution_count": 7,
     "metadata": {},
     "output_type": "execute_result"
    }
   ],
   "source": [
    "len(cards) # all cards besides education card which has class 'card card-plain accordion-card accordion-header'"
   ]
  },
  {
   "cell_type": "markdown",
   "metadata": {},
   "source": [
    "**Personal**"
   ]
  },
  {
   "cell_type": "code",
   "execution_count": 8,
   "metadata": {},
   "outputs": [
    {
     "data": {
      "text/plain": [
       "12"
      ]
     },
     "execution_count": 8,
     "metadata": {},
     "output_type": "execute_result"
    }
   ],
   "source": [
    "vals = cards[0].find_all(name = 'p')\n",
    "len(vals)"
   ]
  },
  {
   "cell_type": "code",
   "execution_count": 9,
   "metadata": {},
   "outputs": [
    {
     "name": "stdout",
     "output_type": "stream",
     "text": [
      "Full Name:\n",
      "Janet Carroll 'Skeet' Richardson\n",
      "Gender:\n",
      "Female\n",
      "Family:\n",
      "Divorced;   1 daughter: Bethany, 10 yrs. old\n",
      "Birth Date:\n",
      "01/09/1959\n",
      "Birth Place:\n",
      "Fort Worth, TX\n",
      "Home City:\n",
      "Keller, TX\n"
     ]
    }
   ],
   "source": [
    "for val in vals:\n",
    "    print(val.string.strip())"
   ]
  },
  {
   "cell_type": "code",
   "execution_count": 10,
   "metadata": {},
   "outputs": [],
   "source": [
    "entries = []\n",
    "for x in range(0,len(vals),2):\n",
    "    if(x==(len(vals)-2)):\n",
    "        entry = vals[x].string.strip() + vals[x+1].string.strip()\n",
    "    else:\n",
    "        entry = vals[x].string.strip() + vals[x+1].string.strip() + ';'\n",
    "    entries.append(entry)"
   ]
  },
  {
   "cell_type": "code",
   "execution_count": 11,
   "metadata": {},
   "outputs": [
    {
     "data": {
      "text/plain": [
       "[\"Full Name:Janet Carroll 'Skeet' Richardson;\",\n",
       " 'Gender:Female;',\n",
       " 'Family:Divorced;   1 daughter: Bethany, 10 yrs. old;',\n",
       " 'Birth Date:01/09/1959;',\n",
       " 'Birth Place:Fort Worth, TX;',\n",
       " 'Home City:Keller, TX']"
      ]
     },
     "execution_count": 11,
     "metadata": {},
     "output_type": "execute_result"
    }
   ],
   "source": [
    "entries # could improve this method by creating a dictionary instead of a list"
   ]
  },
  {
   "cell_type": "markdown",
   "metadata": {},
   "source": [
    "**Education**"
   ]
  },
  {
   "cell_type": "code",
   "execution_count": 12,
   "metadata": {},
   "outputs": [],
   "source": [
    "edu_card = soup.find(name = 'div', class_ = 'card card-plain accordion-card accordion-header')"
   ]
  },
  {
   "cell_type": "code",
   "execution_count": 13,
   "metadata": {},
   "outputs": [],
   "source": [
    "edu_list = edu_card.find_all(name = 'p')"
   ]
  },
  {
   "cell_type": "code",
   "execution_count": 14,
   "metadata": {},
   "outputs": [
    {
     "name": "stdout",
     "output_type": "stream",
     "text": [
      "Texas Christian University\n"
     ]
    }
   ],
   "source": [
    "for edu in edu_list:\n",
    "    print(edu.string.strip())"
   ]
  },
  {
   "cell_type": "markdown",
   "metadata": {},
   "source": [
    "**Others**"
   ]
  },
  {
   "cell_type": "code",
   "execution_count": 15,
   "metadata": {},
   "outputs": [],
   "source": [
    "others = []\n",
    "for card in cards:\n",
    "    if(card != cards[0]):\n",
    "        temp = card.find_all(name = 'p')\n",
    "        o = []\n",
    "        for t in temp:\n",
    "            o.append(t.string.strip())\n",
    "        others.append(o)"
   ]
  },
  {
   "cell_type": "code",
   "execution_count": 16,
   "metadata": {},
   "outputs": [
    {
     "data": {
      "text/plain": [
       "[['Legislative Aide, State Representative Doyle Willis',\n",
       "  'Campaign Director for Congressional candidate George Richardson, 1986'],\n",
       " ['No caucus information on file.'],\n",
       " [\"President/Producer, `Positive' TV Programming, Richardson-Carroll Prod\",\n",
       "  \"Author, `Unsung Heroes'\",\n",
       "  'Public Relations Executive Television Executive, WFAA-TV, ABC'],\n",
       " [\"Regional Member, Emmy's\",\n",
       "  'Member, National Association of Female Executives',\n",
       "  'Member, Women in Communications']]"
      ]
     },
     "execution_count": 16,
     "metadata": {},
     "output_type": "execute_result"
    }
   ],
   "source": [
    "others"
   ]
  },
  {
   "cell_type": "markdown",
   "metadata": {},
   "source": [
    "#### Testing Function(s) for scraping an individual page and writing it to a row of a csv"
   ]
  },
  {
   "cell_type": "code",
   "execution_count": 17,
   "metadata": {},
   "outputs": [],
   "source": [
    "from cand_methods import scrape_candbio"
   ]
  },
  {
   "cell_type": "code",
   "execution_count": 18,
   "metadata": {},
   "outputs": [],
   "source": [
    "headers = ['Candidate Number','Personal','Education','Political Experience','Caucuses/Former Committees',\n",
    "           'Professional Experience','Religious, Civic, and other Memberships','Additional Information']"
   ]
  },
  {
   "cell_type": "code",
   "execution_count": 19,
   "metadata": {},
   "outputs": [],
   "source": [
    "file = open('./draft_cbios.csv', 'w')\n",
    "writer = csv.writer(file)\n",
    "writer.writerow(headers)\n",
    "file.close()"
   ]
  },
  {
   "cell_type": "code",
   "execution_count": 20,
   "metadata": {},
   "outputs": [
    {
     "name": "stdout",
     "output_type": "stream",
     "text": [
      "My program took 467.9851350784302 to run\n"
     ]
    }
   ],
   "source": [
    "start_time = time.time()\n",
    "\n",
    "#for x in range(1,101):\n",
    "#    scrape_candbio(x)\n",
    "\n",
    "\n",
    "    \n",
    "print(\"My program took\", time.time()-start_time, \"to run\") # 467.9851350784302 (8 min) for 100 bios"
   ]
  },
  {
   "cell_type": "markdown",
   "metadata": {},
   "source": [
    "**Troubleshooting**"
   ]
  },
  {
   "cell_type": "code",
   "execution_count": 1,
   "metadata": {},
   "outputs": [],
   "source": [
    "from cand_methods import make_query\n",
    "from cand_methods import get_personal\n",
    "from cand_methods import get_edu\n",
    "from cand_methods import get_others"
   ]
  },
  {
   "cell_type": "code",
   "execution_count": 62,
   "metadata": {},
   "outputs": [],
   "source": [
    "num = 73\n",
    "query = make_query(num)   \n",
    "try:\n",
    "    req = requests.get(query)\n",
    "except:\n",
    "    row = [num] + ['redirect error' for i in range(0,6)]\n",
    "\n",
    "try:\n",
    "    soup = BeautifulSoup(req.content, 'html.parser')\n",
    "except:\n",
    "    row = [num] + ['unknown' for i in range(0,6)]\n",
    "\n",
    "# checking if page is missing/empty i.e. there is no candidate with that id number\n",
    "try:\n",
    "    main = soup.find(name='div', class_ = 'row text-center')\n",
    "    cont = main.find(name = 'div', class_ = 'container')\n",
    "    pnf = cont.find(name='h1', class_ = 'title')\n",
    "    if (pnf.string == 'Page Not Found'):\n",
    "        row = [num] + [np.nan for i in range(0,6)]\n",
    "except:\n",
    "    pass\n",
    "\n",
    "cards = soup.find_all(name = 'div', class_ = 'card card-plain accordion-card') # all cards besides education\n",
    "edu_card = soup.find(name = 'div', class_ = 'card card-plain accordion-card accordion-header')"
   ]
  },
  {
   "cell_type": "markdown",
   "metadata": {},
   "source": [
    "### Section"
   ]
  },
  {
   "cell_type": "markdown",
   "metadata": {},
   "source": []
  }
 ],
 "metadata": {
  "kernelspec": {
   "display_name": "Python 3",
   "language": "python",
   "name": "python3"
  },
  "language_info": {
   "codemirror_mode": {
    "name": "ipython",
    "version": 3
   },
   "file_extension": ".py",
   "mimetype": "text/x-python",
   "name": "python",
   "nbconvert_exporter": "python",
   "pygments_lexer": "ipython3",
   "version": "3.7.6"
  }
 },
 "nbformat": 4,
 "nbformat_minor": 5
}
