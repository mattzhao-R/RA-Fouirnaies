{
 "cells": [
  {
   "cell_type": "code",
   "execution_count": null,
   "metadata": {},
   "outputs": [],
   "source": [
    "import time\n",
    "import os\n",
    "import csv\n",
    "\n",
    "from cand_methods import scrape_candbio\n",
    "\n",
    "import requests\n",
    "from bs4 import BeautifulSoup\n",
    "from multiprocessing.pool import ThreadPool\n",
    "\n",
    "import pandas as pd\n",
    "import numpy as np"
   ]
  },
  {
   "cell_type": "markdown",
   "metadata": {},
   "source": [
    "### Final Bios Scraping\n",
    "\n",
    "This notebook contains the final method for scraping candidate biographies from VoteSmart. Estimated number of candidates is 210,000 with an estimated runtime of around 50 hours 45 min (largest previously completed run was 10,000 @ 2hr 25 min). \n",
    "*Note: estimate is with 6 cores*. "
   ]
  },
  {
   "cell_type": "code",
   "execution_count": null,
   "metadata": {},
   "outputs": [],
   "source": [
    "# has not been previously run due to time constraints. \n",
    "\n",
    "data = list(range(1,210000))\n",
    "\n",
    "headers = ['Candidate Number','Personal','Education','Political Experience','Caucuses/Former Committees',\n",
    "           'Professional Experience','Religious, Civic, and other Memberships','Additional Information']\n",
    "\n",
    "file = open('./draft_cbios.csv', 'w')\n",
    "writer = csv.writer(file)\n",
    "writer.writerow(headers)\n",
    "file.close()\n",
    "\n",
    "start_time = time.time()\n",
    "\n",
    "with ThreadPool(6) as pool:\n",
    "    pool.map(scrape_candbio, data_1_10k)\n",
    "\n",
    "print(\"My program took\", time.time()-start_time, \"to run\") # "
   ]
  }
 ],
 "metadata": {
  "kernelspec": {
   "display_name": "Python 3",
   "language": "python",
   "name": "python3"
  },
  "language_info": {
   "codemirror_mode": {
    "name": "ipython",
    "version": 3
   },
   "file_extension": ".py",
   "mimetype": "text/x-python",
   "name": "python",
   "nbconvert_exporter": "python",
   "pygments_lexer": "ipython3",
   "version": "3.7.6"
  }
 },
 "nbformat": 4,
 "nbformat_minor": 4
}
