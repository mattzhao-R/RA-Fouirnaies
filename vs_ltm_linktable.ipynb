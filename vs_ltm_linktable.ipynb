{
 "cells": [
  {
   "cell_type": "code",
   "execution_count": 1,
   "metadata": {},
   "outputs": [],
   "source": [
    "import time\n",
    "import os\n",
    "\n",
    "import pandas as pd\n",
    "import numpy as np\n",
    "\n",
    "import requests\n",
    "from selenium import webdriver\n",
    "from bs4 import BeautifulSoup"
   ]
  },
  {
   "cell_type": "code",
   "execution_count": 2,
   "metadata": {},
   "outputs": [],
   "source": [
    "#os.chdir('/c/Users/matth/Documents/Coding/RA Fouirnaies')"
   ]
  },
  {
   "cell_type": "code",
   "execution_count": 3,
   "metadata": {},
   "outputs": [],
   "source": [
    "#!pwd"
   ]
  },
  {
   "cell_type": "markdown",
   "metadata": {},
   "source": [
    "# Vote Smart - FollowTheMoney Link Table\n",
    "\n",
    "## Overview\n",
    "\n",
    "This notebook documents the process of creating a link table between the enterprise/organization ID of Vote Smart and FollowTheMoney. We begin with a list of the desired organizations' names as seen on the Vote Smart website and scrape the FTM website search queries to obtain unique IDs. "
   ]
  },
  {
   "cell_type": "markdown",
   "metadata": {},
   "source": [
    "### Search Query Exploration\n",
    "\n",
    "#### Example: Campaign for Working Families\n",
    "\n",
    "Here we seek to understand the format of the search query output and create a method to extract the desired information from each query while handling/providing discussion of how to handle exceptions."
   ]
  },
  {
   "cell_type": "code",
   "execution_count": 4,
   "metadata": {},
   "outputs": [],
   "source": [
    "url = 'https://www.followthemoney.org/search-results/SearchForm?Search=Campaign+for+Working+Families'\n",
    "headers = {'Access-Control-Allow-Origin': '*',\n",
    "          'Access-Control-Allow-Methods': 'GET',\n",
    "          'Access-Control-Allow-Headers': 'Content-Type',\n",
    "          'Access-Control-Max-Age': '3600'}"
   ]
  },
  {
   "cell_type": "markdown",
   "metadata": {},
   "source": [
    "**Issue**\n",
    "\n",
    "Direct parsing of the html using beautifulsoup does not work since the table produced by the search query is a dynamic table, and as a result you need to actually make a request to the website for it to show up.\n",
    "\n",
    "Debugging for dynamic table issue\n",
    "\n",
    "https://stackoverflow.com/questions/17597424/how-to-retrieve-the-values-of-dynamic-html-content-using-python\n",
    "https://stackoverflow.com/questions/40208051/selenium-using-python-geckodriver-executable-needs-to-be-in-path\n",
    "\n",
    "https://www.howtogeek.com/118594/how-to-edit-your-system-path-for-easy-command-line-access/amp/"
   ]
  },
  {
   "cell_type": "markdown",
   "metadata": {},
   "source": [
    "**Workaround**\n",
    "\n",
    "Use selenium webdriver (requires firefox and geckodriver) to access the table. This is not ideal since it requires certain downloads/specific file paths in addition to opening the firefox broswer. Based on what I have read, it appears that this is the easiest way to get around the issue of a dynamic table. As a result, we will be using this method to create the link table. I will update the file paths to be generic and add the necessary files to the main directory so that this can be run elsewhere. \n",
    "\n",
    "An additional "
   ]
  },
  {
   "cell_type": "code",
   "execution_count": 5,
   "metadata": {},
   "outputs": [
    {
     "name": "stdout",
     "output_type": "stream",
     "text": [
      "My program took 10.939863204956055 to run\n"
     ]
    }
   ],
   "source": [
    "#driver = webdriver.Firefox() #executable_path=r'your\\path\\geckodriver.exe'\n",
    "#driver.get(url)\n",
    "\n",
    "from selenium import webdriver\n",
    "from selenium.webdriver.firefox.options import Options\n",
    "\n",
    "start_time = time.time()\n",
    "\n",
    "\n",
    "options = Options()\n",
    "options.binary_location = r'C:\\Program Files\\Mozilla Firefox\\firefox.exe'\n",
    "driver = webdriver.Firefox(executable_path=r'C:\\Users\\matth\\Documents\\Coding\\RA Fouirnaies\\geckodriver.exe', options=options)\n",
    "driver.get(url)\n",
    "\n",
    "html = driver.page_source\n",
    "\n",
    "driver.close()\n",
    "\n",
    "print(\"My program took\", time.time()-start_time, \"to run\")"
   ]
  },
  {
   "cell_type": "code",
   "execution_count": 6,
   "metadata": {},
   "outputs": [
    {
     "name": "stdout",
     "output_type": "stream",
     "text": [
      "My program took 0.07384371757507324 to run\n"
     ]
    }
   ],
   "source": [
    "start_time = time.time()\n",
    "\n",
    "#req = requests.get(html, headers)\n",
    "sample = BeautifulSoup(html, 'html.parser') #req.content\n",
    "\n",
    "print(\"My program took\", time.time()-start_time, \"to run\")"
   ]
  },
  {
   "cell_type": "code",
   "execution_count": 7,
   "metadata": {},
   "outputs": [
    {
     "data": {
      "text/plain": [
       "3"
      ]
     },
     "execution_count": 7,
     "metadata": {},
     "output_type": "execute_result"
    }
   ],
   "source": [
    "# navigating to dynamic search query table and obtaining a list of the 'Name' element/col of each row\n",
    "query_table = sample.find_all(name='div', class_ = 'table-responsive')\n",
    "query_list = query_table[0].find_all(name='td', style = 'text-align: left;')\n",
    "len(query_list)"
   ]
  },
  {
   "cell_type": "code",
   "execution_count": 8,
   "metadata": {},
   "outputs": [
    {
     "name": "stdout",
     "output_type": "stream",
     "text": [
      "CAMPAIGN FOR WORKING FAMILIES: 471\n",
      "CAMPAIGN FOR WORKING FAMILIES PAC CWF: 46277079\n",
      "NEW HAMPSHIRE CAMPAIGN FOR WORKING FAMILIES: 16629025\n"
     ]
    },
    {
     "data": {
      "text/html": [
       "<div>\n",
       "<style scoped>\n",
       "    .dataframe tbody tr th:only-of-type {\n",
       "        vertical-align: middle;\n",
       "    }\n",
       "\n",
       "    .dataframe tbody tr th {\n",
       "        vertical-align: top;\n",
       "    }\n",
       "\n",
       "    .dataframe thead th {\n",
       "        text-align: right;\n",
       "    }\n",
       "</style>\n",
       "<table border=\"1\" class=\"dataframe\">\n",
       "  <thead>\n",
       "    <tr style=\"text-align: right;\">\n",
       "      <th></th>\n",
       "      <th>org_name</th>\n",
       "      <th>ID</th>\n",
       "    </tr>\n",
       "  </thead>\n",
       "  <tbody>\n",
       "    <tr>\n",
       "      <th>0</th>\n",
       "      <td>CAMPAIGN FOR WORKING FAMILIES</td>\n",
       "      <td>471</td>\n",
       "    </tr>\n",
       "    <tr>\n",
       "      <th>1</th>\n",
       "      <td>CAMPAIGN FOR WORKING FAMILIES PAC CWF</td>\n",
       "      <td>46277079</td>\n",
       "    </tr>\n",
       "    <tr>\n",
       "      <th>2</th>\n",
       "      <td>NEW HAMPSHIRE CAMPAIGN FOR WORKING FAMILIES</td>\n",
       "      <td>16629025</td>\n",
       "    </tr>\n",
       "  </tbody>\n",
       "</table>\n",
       "</div>"
      ],
      "text/plain": [
       "                                      org_name        ID\n",
       "0                CAMPAIGN FOR WORKING FAMILIES       471\n",
       "1        CAMPAIGN FOR WORKING FAMILIES PAC CWF  46277079\n",
       "2  NEW HAMPSHIRE CAMPAIGN FOR WORKING FAMILIES  16629025"
      ]
     },
     "execution_count": 8,
     "metadata": {},
     "output_type": "execute_result"
    }
   ],
   "source": [
    "# creating mock link table\n",
    "\n",
    "names = []\n",
    "ids = []\n",
    "\n",
    "for row in query_list:\n",
    "    names.append(row.string)\n",
    "    ids.append(row['tokenvalue'])\n",
    "    print(row.string + ': ' + row['tokenvalue'])\n",
    "    \n",
    "dict = {'org_name': names, 'ID': ids}\n",
    "\n",
    "df = pd.DataFrame(dict)\n",
    "df"
   ]
  },
  {
   "cell_type": "markdown",
   "metadata": {},
   "source": [
    "### Search & Match Automation\n",
    "\n",
    "#### Query Creation\n",
    "\n",
    "For both tasks we assume that we are given a list of strings where each string is an organization name that is separated by spaces (if longer than one word) and is of unknown capitalization. "
   ]
  },
  {
   "cell_type": "code",
   "execution_count": 9,
   "metadata": {},
   "outputs": [],
   "source": [
    "in_string = 'campaign for working families' # representative string in the list of organizations\n",
    "\n",
    "\n"
   ]
  },
  {
   "cell_type": "markdown",
   "metadata": {},
   "source": [
    "#### Organization Matching"
   ]
  },
  {
   "cell_type": "code",
   "execution_count": null,
   "metadata": {},
   "outputs": [],
   "source": []
  },
  {
   "cell_type": "markdown",
   "metadata": {},
   "source": []
  }
 ],
 "metadata": {
  "kernelspec": {
   "display_name": "Python 3",
   "language": "python",
   "name": "python3"
  },
  "language_info": {
   "codemirror_mode": {
    "name": "ipython",
    "version": 3
   },
   "file_extension": ".py",
   "mimetype": "text/x-python",
   "name": "python",
   "nbconvert_exporter": "python",
   "pygments_lexer": "ipython3",
   "version": "3.7.6"
  }
 },
 "nbformat": 4,
 "nbformat_minor": 4
}
